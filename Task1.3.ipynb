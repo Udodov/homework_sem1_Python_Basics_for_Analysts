{
 "cells": [
  {
   "cell_type": "markdown",
   "metadata": {},
   "source": [
    "## 1.3. Дан список с затратами на рекламу. Но в данных есть ошибки, некоторые затраты имеют отрицательную величину. \n",
    "\n",
    "Удалите такие значения из списка и посчитайте суммарные затраты. Используйте list comprehensions.\n",
    "\n",
    "Примеры/Тесты:\n",
    "\n",
    ">        [-12, 100, 0, 125, -90, 0, 345, 655, -1, 0, 200] -> [100, 0, 125, 0, 345, 655, 0, 200]\n",
    "\n",
    "```(*)``` **Усложнение.** Удалите отрицательные значения из списка, а нулевые значения замените на None\n",
    "\n",
    "Примеры/Тесты:\n",
    "\n",
    ">        [-12, 100, 0, 125, -90, 0, 345, 655, -1, 0, 200] -> [100, None, 125, None, 345, 655, None, 200]\n",
    "***"
   ]
  },
  {
   "cell_type": "markdown",
   "metadata": {},
   "source": [
    "Обявим список"
   ]
  },
  {
   "cell_type": "code",
   "execution_count": 14,
   "metadata": {},
   "outputs": [],
   "source": [
    "expenses = [-12, 100, 0, 125, -90, 0, 345, 655, -1, 0, 200]"
   ]
  },
  {
   "cell_type": "markdown",
   "metadata": {},
   "source": [
    "Создадим новый список **new_data**, который содержит только положительные числа из исходного списка **expenses**. \n",
    "\n",
    "Для этого используется *list comprehensions* (генератор списков), который проходит по каждому элементу списка **expenses** и добавляет его в новый список  **new_data**, только если он больше или равен нулю (т.е. положительный). "
   ]
  },
  {
   "cell_type": "code",
   "execution_count": 15,
   "metadata": {},
   "outputs": [
    {
     "name": "stdout",
     "output_type": "stream",
     "text": [
      "[100, 0, 125, 0, 345, 655, 0, 200]\n"
     ]
    }
   ],
   "source": [
    "new_data = [i for i in expenses if i >= 0]\n",
    "\n",
    "print(new_data)\n"
   ]
  },
  {
   "cell_type": "markdown",
   "metadata": {},
   "source": [
    "Затем с помощью функции ***sum()*** вычисляется сумма всех элементов нового списка  **new_data** и выводится на экран. "
   ]
  },
  {
   "cell_type": "code",
   "execution_count": 16,
   "metadata": {},
   "outputs": [
    {
     "name": "stdout",
     "output_type": "stream",
     "text": [
      "1425\n"
     ]
    }
   ],
   "source": [
    "total_costs = sum(new_data)\n",
    "\n",
    "print(total_costs)"
   ]
  },
  {
   "cell_type": "markdown",
   "metadata": {},
   "source": [
    "### Усложнение\n",
    "Удалите отрицательные значения из списка, а нулевые значения замените на **None**"
   ]
  },
  {
   "cell_type": "markdown",
   "metadata": {},
   "source": [
    "Используем *list comprehensions* (генератор списка) и условное выражение: если значение элемента больше 0, то оно остается неизменным, иначе заменяется на None. Таким образом, новый список **new_expenses** будет содержать только положительные значения из исходного списка **expenses**, а отрицательные будут заменены на None."
   ]
  },
  {
   "cell_type": "code",
   "execution_count": 17,
   "metadata": {},
   "outputs": [
    {
     "name": "stdout",
     "output_type": "stream",
     "text": [
      "[None, 100, None, 125, None, None, 345, 655, None, None, 200]\n"
     ]
    }
   ],
   "source": [
    "new_expenses = [meaning if meaning > 0 else None for meaning in expenses] \n",
    "\n",
    "print(new_expenses)"
   ]
  }
 ],
 "metadata": {
  "kernelspec": {
   "display_name": "Python 3",
   "language": "python",
   "name": "python3"
  },
  "language_info": {
   "codemirror_mode": {
    "name": "ipython",
    "version": 3
   },
   "file_extension": ".py",
   "mimetype": "text/x-python",
   "name": "python",
   "nbconvert_exporter": "python",
   "pygments_lexer": "ipython3",
   "version": "3.10.11"
  },
  "orig_nbformat": 4
 },
 "nbformat": 4,
 "nbformat_minor": 2
}
