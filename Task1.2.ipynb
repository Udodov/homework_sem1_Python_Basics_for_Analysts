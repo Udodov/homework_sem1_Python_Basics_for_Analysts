{
 "cells": [
  {
   "cell_type": "markdown",
   "metadata": {},
   "source": [
    "## 1.2. На складе лежат разные фрукты в разном количестве. \n",
    "Написать функцию, которая на вход принимает любое количество названий фруктов и их количество, а возвращает общее количество фруктов на складе\n",
    "\n",
    "Примеры/Тесты:\n",
    "\n",
    ">        <finction_name>(apple=2, banana=12, pear=9, peach=5) -> 28\n",
    "***"
   ]
  },
  {
   "cell_type": "markdown",
   "metadata": {},
   "source": [
    "Создадим функцию ***fruits_stock***, которая принимает произвольное количество аргументов в формате \"ключ-значение\". \n",
    "\n",
    "Функция проходит по всем переданным аргументам с помощью метода ***items()***, который возвращает пары \"ключ (fruit)-значение (quantity) \", и прибавляет значение каждого аргумента к переменной **total**. Затем функция возвращает значение переменной **total**, которое является общим количеством фруктов."
   ]
  },
  {
   "cell_type": "code",
   "execution_count": 8,
   "metadata": {},
   "outputs": [],
   "source": [
    "def fruits_stock(**fruits):\n",
    "    total = 0\n",
    "    for fruit, quantity in fruits.items():\n",
    "        total += quantity\n",
    "    return total"
   ]
  },
  {
   "cell_type": "markdown",
   "metadata": {},
   "source": [
    "В данном примере функция вызывается с четырьмя аргументами которые обозначены в примере: ```apple=2, banana=12, pear=9, peach=5.``` Это означает, что в переменную **fruits** передается словарь с четырьмя элементами, где <u>ключи</u> (**fruit**) - это названия фруктов, а <u>значения</u> - их количество (**quantity**). "
   ]
  },
  {
   "cell_type": "code",
   "execution_count": 9,
   "metadata": {},
   "outputs": [
    {
     "name": "stdout",
     "output_type": "stream",
     "text": [
      "28\n"
     ]
    }
   ],
   "source": [
    "print(fruits_stock(apple=2, banana=12, pear=9, peach=5))"
   ]
  }
 ],
 "metadata": {
  "language_info": {
   "name": "python"
  },
  "orig_nbformat": 4
 },
 "nbformat": 4,
 "nbformat_minor": 2
}
